{
 "cells": [
  {
   "cell_type": "code",
   "execution_count": null,
   "id": "45f76e26-8f10-4ac9-b4bf-4ec5e42df54f",
   "metadata": {
    "tags": []
   },
   "outputs": [],
   "source": [
    "import os\n",
    "import sys\n",
    "\n",
    "import numpy as np\n",
    "import pandas as pd\n",
    "import matplotlib.pyplot as plt\n",
    "\n",
    "import dataretrieval\n",
    "import hydrofunctions\n",
    "#import pygeohydro\n",
    "#import ulmo\n",
    "#import wellapplication\n",
    "\n",
    "import pastas"
   ]
  },
  {
   "cell_type": "code",
   "execution_count": null,
   "id": "a491a343-ab94-4638-8626-1e6f2d756ad7",
   "metadata": {},
   "outputs": [],
   "source": [
    "os.getcwd()"
   ]
  },
  {
   "cell_type": "markdown",
   "id": "70f4e0c7-0188-40b5-a11e-999c288486d0",
   "metadata": {
    "jp-MarkdownHeadingCollapsed": true,
    "tags": []
   },
   "source": [
    "## hydrofunctions"
   ]
  },
  {
   "cell_type": "code",
   "execution_count": null,
   "id": "b6da4d84-2568-4a8f-a093-d7bfd623f0a7",
   "metadata": {},
   "outputs": [],
   "source": [
    "dir(hydrofunctions)\n",
    "help(hydrofunctions)\n",
    "hydrofunctions.__version__"
   ]
  },
  {
   "cell_type": "code",
   "execution_count": null,
   "id": "efd94315-a2bf-46a4-9602-3238c42e6a0f",
   "metadata": {},
   "outputs": [],
   "source": [
    "fox_river_gb_dv = hydrofunctions.NWIS(\"040851385\", \"dv\", period=\"P10D\")\n",
    "print(fox_river_gb_dv)\n",
    "print(len(fox_river_gb_dv.df().index))\n",
    "\n",
    "# this is a handy method to look at the response code, maybe useful\n",
    "print(fox_river_gb_dv.response)"
   ]
  },
  {
   "cell_type": "code",
   "execution_count": null,
   "id": "5ad8c581-9b16-4098-8621-524d4743ecc8",
   "metadata": {},
   "outputs": [],
   "source": [
    "fox_river_gb_iv = hydrofunctions.NWIS(\"040851385\", \"iv\", period=\"P10D\")\n",
    "print(fox_river_gb_iv)\n",
    "print(len(fox_river_gb_iv.df().index))\n",
    "print(fox_river_gb_iv.response)"
   ]
  },
  {
   "cell_type": "code",
   "execution_count": null,
   "id": "40296198-985d-4e0c-baff-151932052e79",
   "metadata": {},
   "outputs": [],
   "source": [
    "fox_river_gb_iv = hydrofunctions.NWIS(\"040851385\", \"iv\", \"2021-10-15\", \"2021-10-25\")\n",
    "print(fox_river_gb_iv)\n",
    "print(len(fox_river_gb_iv.df().index))\n",
    "print(fox_river_gb_iv.response)"
   ]
  },
  {
   "cell_type": "code",
   "execution_count": null,
   "id": "4f8fb4a1-2c8e-4094-939c-44be8797ac68",
   "metadata": {},
   "outputs": [],
   "source": [
    "fox_river_gb_iv.df()"
   ]
  },
  {
   "cell_type": "code",
   "execution_count": null,
   "id": "4124ec1c-11fd-41b2-9316-19fefe306403",
   "metadata": {},
   "outputs": [],
   "source": [
    "wi_code = \"WI\"\n",
    "wi = hydrofunctions.NWIS(stateCd=wi_code)\n",
    "type(wi)"
   ]
  },
  {
   "cell_type": "code",
   "execution_count": null,
   "id": "21188f32-4ad7-4720-aeb6-0161f20668c8",
   "metadata": {},
   "outputs": [],
   "source": [
    "dir(wi)"
   ]
  },
  {
   "cell_type": "markdown",
   "id": "9f2d9860-2fb3-409c-bc81-6aea5ea1f34f",
   "metadata": {
    "jp-MarkdownHeadingCollapsed": true,
    "tags": []
   },
   "source": [
    "## python dataretrieval"
   ]
  },
  {
   "cell_type": "code",
   "execution_count": null,
   "id": "4dfeedb1-bdd7-4519-8f2d-917f12558741",
   "metadata": {},
   "outputs": [],
   "source": [
    "help(dataretrieval)\n",
    "print(dir(dataretrieval))\n",
    "#dataretrieval.__version__"
   ]
  },
  {
   "cell_type": "code",
   "execution_count": null,
   "id": "13d62529-867c-459f-89ae-37d54b46e7a1",
   "metadata": {},
   "outputs": [],
   "source": [
    "# dataretrivel is broken into modules, need to import individual pieaces as needed\n",
    "from dataretrieval import nwis, utils\n",
    "\n",
    "# refernence gage, time, and data\n",
    "fox_river_gb = \"040851385\"\n",
    "start = \"2021-10-10\"\n",
    "end = \"2021-10-20\"\n",
    "data = [\"iv\", \"dv\", \"qwdata\", \"site\"]\n",
    "\n",
    "# attempt to get iv, dv, site, and qwdata... raise error if data does not exist\n",
    "for d in data:\n",
    "    try:\n",
    "        nwis.get_record(sites=fox_river_gb, service=d, start=start, end=end).info()\n",
    "        print(\"-\"*20)\n",
    "\n",
    "    except utils.NoSitesError as e:\n",
    "        print(f\"{d}: {e}\")\n",
    "        print(\"-\"*20)"
   ]
  },
  {
   "cell_type": "code",
   "execution_count": null,
   "id": "58aca9f8-1af3-43ce-a54c-bf6d433ccbd7",
   "metadata": {},
   "outputs": [],
   "source": [
    "# use specific dataretrieval functions to get data, these follow R dataRetrieval style\n",
    "from dataretrieval import nwis\n",
    "\n",
    "# refernence gage, time, and data\n",
    "fox_river_gb = \"040851385\"\n",
    "start = \"2021-10-15\"\n",
    "end = \"2021-10-25\"\n",
    "\n",
    "# returns a tuple with dataframe and metadata class\n",
    "dv = nwis.get_dv(start=start, end=end, sites=fox_river_gb)\n",
    "iv = nwis.get_iv(start=start, end=end, sites=fox_river_gb)\n",
    "info = nwis.get_info(sites=fox_river_gb)"
   ]
  },
  {
   "cell_type": "code",
   "execution_count": null,
   "id": "a31008f6-81ff-4cc1-94ed-17bb1591e1a2",
   "metadata": {},
   "outputs": [],
   "source": [
    "type(dv)\n",
    "for i in dv:\n",
    "    print(type(i))"
   ]
  },
  {
   "cell_type": "code",
   "execution_count": null,
   "id": "9fce4648-5b69-47a1-a3bc-186211f0e601",
   "metadata": {},
   "outputs": [],
   "source": [
    "type(iv)\n",
    "for i in dv:\n",
    "    print(type(i))"
   ]
  },
  {
   "cell_type": "code",
   "execution_count": null,
   "id": "d118f82e-d963-4414-b94e-b5d39acfa25e",
   "metadata": {},
   "outputs": [],
   "source": [
    "type(info)\n",
    "for i in info:\n",
    "    print(type(i))"
   ]
  },
  {
   "cell_type": "code",
   "execution_count": null,
   "id": "a559d678-6771-45a9-976c-8c67399fe579",
   "metadata": {},
   "outputs": [],
   "source": [
    "iv[0].head()"
   ]
  },
  {
   "cell_type": "code",
   "execution_count": null,
   "id": "0a2f101e-8858-4d0c-a95a-c9b6f22ff59a",
   "metadata": {},
   "outputs": [],
   "source": [
    "# pull out info dataframe and transpose\n",
    "df_info = info[0]\n",
    "df_info.T.head()"
   ]
  },
  {
   "cell_type": "code",
   "execution_count": null,
   "id": "031f306c-dc36-4450-b2e6-f91fd97757e9",
   "metadata": {
    "tags": []
   },
   "outputs": [],
   "source": [
    "# pull out metadata class and look at attributes, can't remember a better way to print\n",
    "meta_info = info[1]\n",
    "print(meta_info.comment)\n",
    "print(meta_info.disclaimer)\n",
    "print(meta_info.header)\n",
    "print(meta_info.query_time)\n",
    "print(meta_info.site_info)\n",
    "print(meta_info.statistic_info)\n",
    "print(meta_info.url)\n",
    "print(meta_info.variable_info)"
   ]
  },
  {
   "cell_type": "code",
   "execution_count": null,
   "id": "f05cd062-155a-4d25-87b0-6f1714e870a9",
   "metadata": {
    "tags": []
   },
   "outputs": [],
   "source": [
    "from dataretrieval import nwis\n",
    "codes = nwis.get_pmcodes()\n",
    "codes"
   ]
  },
  {
   "cell_type": "code",
   "execution_count": null,
   "id": "caef12de-3955-423e-aa7b-4d599e4964f4",
   "metadata": {},
   "outputs": [],
   "source": [
    "# hydrofunctions and dataretrieval implement datetime indexes differently\n",
    "print(hf_data.index)\n",
    "print(dt_data.index)"
   ]
  },
  {
   "cell_type": "markdown",
   "id": "dd794339-6bf2-4031-a810-4886d78b6f70",
   "metadata": {
    "tags": []
   },
   "source": [
    "## test returned data\n",
    "\n",
    "looking at data returned by hydrofunctions and dataretrieval from a fixed stream gage. how close are the timeseries for a given channel? do the date time indexes align?"
   ]
  },
  {
   "cell_type": "code",
   "execution_count": 1,
   "id": "bee6a3a8-0083-410b-867b-2096fd319fec",
   "metadata": {},
   "outputs": [
    {
     "name": "stdout",
     "output_type": "stream",
     "text": [
      "Requested data from https://waterservices.usgs.gov/nwis/iv/?format=json%2C1.1&sites=040851385&startDT=2021-10-15&endDT=2021-10-25\n"
     ]
    }
   ],
   "source": [
    "import pandas as pd\n",
    "\n",
    "import dataretrieval\n",
    "import hydrofunctions\n",
    "\n",
    "from dataretrieval import nwis\n",
    "\n",
    "# parameter codes\n",
    "temp_c = \"00010\"       # temp celsius\n",
    "discharge_q = \"00060\"  # cubic feet per second\n",
    "gage_height = \"00065\"  # height\n",
    "\n",
    "def get_data(gage, data, start, end):\n",
    "    # retrieve data with hydrofunctions, get dataframe of discharge, convert datetime to CDT\n",
    "    hf_data = hydrofunctions.NWIS(fox_river_gb, data, start, end).df(\"discharge\").tz_convert('US/Central')\n",
    "    \n",
    "    # retrieve data with dataretrieval, query with discharge parameter code, get dataframe tuple\n",
    "    dt_data = nwis.get_iv(start=start, end=end, sites=fox_river_gb, parameterCd=\"00060\")[0]\n",
    "    \n",
    "    return hf_data, dt_data\n",
    "\n",
    "# refernence gage, time, and data\n",
    "fox_river_gb = \"040851385\"\n",
    "data = \"iv\"\n",
    "start = \"2021-10-15\"\n",
    "end = \"2021-10-25\"\n",
    "\n",
    "hf_df, dt_df = get_data(gage=fox_river_gb, data=data, start=start, end=end)"
   ]
  },
  {
   "cell_type": "code",
   "execution_count": 2,
   "id": "f9fb4e0d-c701-44b9-b3e9-2a53dee3b1f9",
   "metadata": {},
   "outputs": [
    {
     "name": "stdout",
     "output_type": "stream",
     "text": [
      "hydrofunctions iv data from 2021-10-15 to 2021-10-25: 3168 observations\n",
      "dataretrieval iv data from 2021-10-15 to 2021-10-25: 2783 observations\n",
      "--------------------------------------------------\n",
      "observations: 10days = 2880.0, 1day= 288.0, 1hour= 12.0\n",
      "--------------------------------------------------\n",
      "hydrofunctions difference: 288.0 observations, 24.0 extra hours of observations\n",
      "python-dataretrieval difference: 97.0 observations, 8.08 missing hours of observations\n"
     ]
    }
   ],
   "source": [
    "print(f\"hydrofunctions {data} data from {start} to {end}: {len(hf_df.index)} observations\")\n",
    "print(f\"dataretrieval {data} data from {start} to {end}: {len(dt_df.index)} observations\")\n",
    "print(\"-\"*50)\n",
    "\n",
    "# figure out how many records there should be over N days with measurements taken at 15 minute intervals\n",
    "\n",
    "# hydrofunctions\n",
    "hf_length = len(hf_df.index)\n",
    "\n",
    "# dataretrieval\n",
    "dt_length = len(dt_df.index)\n",
    "\n",
    "# how many 5 minute observations from 2021-10-15 to 2021-10-25 (10 days)\n",
    "perhour = 60/5\n",
    "perday = 24*perhour\n",
    "perperiod = 10*perday\n",
    "print(f\"observations: 10days = {perperiod}, 1day= {perday}, 1hour= {perhour}\")\n",
    "print(\"-\"*50)\n",
    "\n",
    "# observation differences\n",
    "hf_diff = hf_length-perperiod\n",
    "dt_diff = dt_length-perperiod\n",
    "\n",
    "def text(diff):\n",
    "    return \"extra hours of observations\" if diff >= 0 else \"missing hours of observations\"\n",
    "\n",
    "def hours(diff):\n",
    "    return abs(round(diff/perhour, 2))\n",
    "\n",
    "print(f\"hydrofunctions difference: {abs(hf_diff)} observations, {hours(hf_diff)} {text(hf_diff)}\")\n",
    "print(f\"python-dataretrieval difference: {abs(dt_diff)} observations, {hours(dt_diff)} {text(dt_diff)}\")"
   ]
  },
  {
   "cell_type": "code",
   "execution_count": 42,
   "id": "e528b4de-e294-443b-b530-3a1dd19c7b3b",
   "metadata": {},
   "outputs": [
    {
     "name": "stdout",
     "output_type": "stream",
     "text": [
      "5 gaps with total duration: 1 days 08:30:00\n",
      "Start: 2021-10-19 19:20:00 | Stop: 2021-10-19 20:25:00 | Duration: 1:05:00\n",
      "Start: 2021-10-21 12:15:00 | Stop: 2021-10-21 13:00:00 | Duration: 0:45:00\n",
      "Start: 2021-10-21 13:00:00 | Stop: 2021-10-22 01:00:00 | Duration: 12:00:00\n",
      "Start: 2021-10-22 01:00:00 | Stop: 2021-10-22 13:00:00 | Duration: 12:00:00\n",
      "Start: 2021-10-22 13:00:00 | Stop: 2021-10-22 19:40:00 | Duration: 6:40:00\n"
     ]
    }
   ],
   "source": [
    "from datetime import datetime, timedelta\n",
    "\n",
    "# grab datetime index, run diff on datetimes, drop index row 0 NA\n",
    "dt_index_delta = dt_df.reset_index()[\"datetime\"].diff()[1:]\n",
    "\n",
    "# delta between continous timesteps should be 5 minutes, filter for a timedelta greater than 5 minutes\n",
    "dt_gaps = dt_index_delta[dt_index_diff > timedelta(minutes=5)]\n",
    "\n",
    "# print results \n",
    "print(f'{len(dt_gaps)} gaps with total duration: {dt_gaps.sum()}')\n",
    "for i, g in dt_gaps.iteritems():\n",
    "    gap_start = dt_df.reset_index()[\"datetime\"][i - 1]\n",
    "    gap_stop = dt_df.reset_index()[\"datetime\"][i]\n",
    "    print(f\"Start: {datetime.strftime(gap_start, '%Y-%m-%d %H:%M:%S')} | Stop: {datetime.strftime(gap_stop, '%Y-%m-%d %H:%M:%S')} | Duration: {str(g.to_pytimedelta())}\")\n",
    "    \n"
   ]
  },
  {
   "cell_type": "code",
   "execution_count": 93,
   "id": "9beb574c-ad69-4ce4-a8b5-0f1e5eea9c31",
   "metadata": {},
   "outputs": [
    {
     "data": {
      "image/png": "[encoded data removed]",
      "text/plain": [
       "<Figure size 1440x720 with 1 Axes>"
      ]
     },
     "metadata": {
      "needs_background": "light"
     },
     "output_type": "display_data"
    }
   ],
   "source": [
    "%matplotlib inline\n",
    "import matplotlib.pyplot as plt\n",
    "import numpy as np\n",
    "\n",
    "# convert index to numpy array, datetime object preserved\n",
    "dt_np = dt_df.index.to_numpy()\n",
    "\n",
    "# compute time diff, drops first index due to diff algro \n",
    "dt_np_delta = np.diff(dt_np)\n",
    "\n",
    "# insert dummy diff at index 0 to align indexes\n",
    "dt_np_delta = np.insert(dt_np_delta, 0, dt_np_delta[0])\n",
    "\n",
    "# get boolean mask for timedelta over 5 minutes\n",
    "dt_np_mask = dt_np_delta > timedelta(minutes=5)\n",
    "\n",
    "# filter original dataframe with mask to extract datetime indexes with missing data\n",
    "dt_np_gaps = dt_df[dt_np_mask]\n",
    "\n",
    "# plot it\n",
    "plt.figure(figsize=(20, 10))\n",
    "plt.scatter(dt_df.index, dt_df[\"00060_2\"], s=5)\n",
    "plt.axvline(dt_df.index[0], color=\"black\", linestyle=\"--\", linewidth=2)\n",
    "plt.axvline(dt_df.index[-1], color=\"black\", linestyle=\"--\", linewidth=2)\n",
    "for i in dt_np_gaps.index.to_list():\n",
    "    plt.axvline(i, color=\"red\")\n",
    "plt.show()"
   ]
  },
  {
   "cell_type": "code",
   "execution_count": 71,
   "id": "cfc5391a-c6df-448d-a38f-4c0ec04b73df",
   "metadata": {},
   "outputs": [
    {
     "data": {
      "text/plain": [
       "[Timestamp('2021-10-19 20:25:00-0500', tz='pytz.FixedOffset(-300)'),\n",
       " Timestamp('2021-10-21 13:00:00-0500', tz='pytz.FixedOffset(-300)'),\n",
       " Timestamp('2021-10-22 01:00:00-0500', tz='pytz.FixedOffset(-300)'),\n",
       " Timestamp('2021-10-22 13:00:00-0500', tz='pytz.FixedOffset(-300)'),\n",
       " Timestamp('2021-10-22 19:40:00-0500', tz='pytz.FixedOffset(-300)')]"
      ]
     },
     "execution_count": 71,
     "metadata": {},
     "output_type": "execute_result"
    }
   ],
   "source": [
    "dt_np_gaps"
   ]
  },
  {
   "cell_type": "code",
   "execution_count": 17,
   "id": "a9388a8d-5bb4-4c02-ba15-2ca68df6ecc2",
   "metadata": {},
   "outputs": [
    {
     "data": {
      "text/plain": [
       "1      0 days 00:05:00\n",
       "2      0 days 00:05:00\n",
       "3      0 days 00:05:00\n",
       "4      0 days 00:05:00\n",
       "5      0 days 00:05:00\n",
       "             ...      \n",
       "2778   0 days 00:05:00\n",
       "2779   0 days 00:05:00\n",
       "2780   0 days 00:05:00\n",
       "2781   0 days 00:05:00\n",
       "2782   0 days 00:05:00\n",
       "Name: datetime, Length: 2782, dtype: timedelta64[ns]"
      ]
     },
     "execution_count": 17,
     "metadata": {},
     "output_type": "execute_result"
    }
   ],
   "source": [
    "dt_index_diff"
   ]
  },
  {
   "cell_type": "code",
   "execution_count": null,
   "id": "e536c448-f90b-4cf3-bc89-341ac93a0be7",
   "metadata": {},
   "outputs": [],
   "source": [
    "# look at dataframe info\n",
    "print(hf_df.info())\n",
    "print(\"-*\"*40)\n",
    "print(dt_df.info())"
   ]
  },
  {
   "cell_type": "code",
   "execution_count": null,
   "id": "f6b1fe4c-231f-4089-a151-6a98d23befe7",
   "metadata": {},
   "outputs": [],
   "source": [
    "hf_df.head()"
   ]
  },
  {
   "cell_type": "code",
   "execution_count": 74,
   "id": "2eb54841-d08b-467e-b56d-7ce091fa9207",
   "metadata": {},
   "outputs": [
    {
     "data": {
      "text/html": [
       "<div>\n",
       "<style scoped>\n",
       "    .dataframe tbody tr th:only-of-type {\n",
       "        vertical-align: middle;\n",
       "    }\n",
       "\n",
       "    .dataframe tbody tr th {\n",
       "        vertical-align: top;\n",
       "    }\n",
       "\n",
       "    .dataframe thead th {\n",
       "        text-align: right;\n",
       "    }\n",
       "</style>\n",
       "<table border=\"1\" class=\"dataframe\">\n",
       "  <thead>\n",
       "    <tr style=\"text-align: right;\">\n",
       "      <th></th>\n",
       "      <th>00060_2</th>\n",
       "      <th>00060_2_cd</th>\n",
       "      <th>site_no</th>\n",
       "    </tr>\n",
       "    <tr>\n",
       "      <th>datetime</th>\n",
       "      <th></th>\n",
       "      <th></th>\n",
       "      <th></th>\n",
       "    </tr>\n",
       "  </thead>\n",
       "  <tbody>\n",
       "    <tr>\n",
       "      <th>2021-10-25 23:35:00-05:00</th>\n",
       "      <td>8410.0</td>\n",
       "      <td>P</td>\n",
       "      <td>040851385</td>\n",
       "    </tr>\n",
       "    <tr>\n",
       "      <th>2021-10-25 23:40:00-05:00</th>\n",
       "      <td>8040.0</td>\n",
       "      <td>P</td>\n",
       "      <td>040851385</td>\n",
       "    </tr>\n",
       "    <tr>\n",
       "      <th>2021-10-25 23:45:00-05:00</th>\n",
       "      <td>9370.0</td>\n",
       "      <td>P</td>\n",
       "      <td>040851385</td>\n",
       "    </tr>\n",
       "    <tr>\n",
       "      <th>2021-10-25 23:50:00-05:00</th>\n",
       "      <td>10100.0</td>\n",
       "      <td>P</td>\n",
       "      <td>040851385</td>\n",
       "    </tr>\n",
       "    <tr>\n",
       "      <th>2021-10-25 23:55:00-05:00</th>\n",
       "      <td>8140.0</td>\n",
       "      <td>P</td>\n",
       "      <td>040851385</td>\n",
       "    </tr>\n",
       "  </tbody>\n",
       "</table>\n",
       "</div>"
      ],
      "text/plain": [
       "                           00060_2 00060_2_cd    site_no\n",
       "datetime                                                \n",
       "2021-10-25 23:35:00-05:00   8410.0          P  040851385\n",
       "2021-10-25 23:40:00-05:00   8040.0          P  040851385\n",
       "2021-10-25 23:45:00-05:00   9370.0          P  040851385\n",
       "2021-10-25 23:50:00-05:00  10100.0          P  040851385\n",
       "2021-10-25 23:55:00-05:00   8140.0          P  040851385"
      ]
     },
     "execution_count": 74,
     "metadata": {},
     "output_type": "execute_result"
    }
   ],
   "source": [
    "dt_df.tail()"
   ]
  },
  {
   "cell_type": "code",
   "execution_count": null,
   "id": "f11f7520-f853-4f27-be5b-3df02ee96b01",
   "metadata": {},
   "outputs": [],
   "source": [
    "# look at first time step\n",
    "print(hf_df.index[1], hf_df.iloc[0].tolist())\n",
    "print(dt_df.index[1], dt_df.iloc[0].tolist())\n",
    "\n",
    "# look at last time step\n",
    "print(hf_df.index[-1], hf_df.iloc[-1].tolist())\n",
    "print(dt_df.index[-1], dt_df.iloc[-1].tolist())"
   ]
  },
  {
   "cell_type": "code",
   "execution_count": null,
   "id": "e052d21b-a1f0-4ad4-875c-9a784d3325b4",
   "metadata": {},
   "outputs": [],
   "source": [
    "print(\"parameter code:\",dt_df.columns[1])\n",
    "dt_df.iloc[:,1]"
   ]
  },
  {
   "cell_type": "code",
   "execution_count": null,
   "id": "f2f82571-a0d4-4b47-a1bf-650e6d43eb45",
   "metadata": {},
   "outputs": [],
   "source": [
    "dt_df.iloc[:,1].unique()"
   ]
  }
 ],
 "metadata": {
  "kernelspec": {
   "display_name": "Python 3 (ipykernel)",
   "language": "python",
   "name": "python3"
  },
  "language_info": {
   "codemirror_mode": {
    "name": "ipython",
    "version": 3
   },
   "file_extension": ".py",
   "mimetype": "text/x-python",
   "name": "python",
   "nbconvert_exporter": "python",
   "pygments_lexer": "ipython3",
   "version": "3.8.10"
  },
  "toc-showcode": false,
  "toc-showmarkdowntxt": false,
  "toc-showtags": false
 },
 "nbformat": 4,
 "nbformat_minor": 5
}
