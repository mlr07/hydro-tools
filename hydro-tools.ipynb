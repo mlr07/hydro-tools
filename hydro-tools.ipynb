{
 "cells": [
  {
   "cell_type": "code",
   "execution_count": 36,
   "id": "45f76e26-8f10-4ac9-b4bf-4ec5e42df54f",
   "metadata": {
    "tags": []
   },
   "outputs": [],
   "source": [
    "import os\n",
    "import sys\n",
    "\n",
    "import numpy as np\n",
    "import pandas as pd\n",
    "import matplotlib.pyplot as plt\n",
    "\n",
    "import dataretrieval\n",
    "import hydrofunctions\n",
    "#import pygeohydro\n",
    "#import ulmo\n",
    "#import wellapplication\n",
    "\n",
    "import pastas"
   ]
  },
  {
   "cell_type": "code",
   "execution_count": 3,
   "id": "a491a343-ab94-4638-8626-1e6f2d756ad7",
   "metadata": {},
   "outputs": [
    {
     "data": {
      "text/plain": [
       "'/home/mlr/git/hydro-tools'"
      ]
     },
     "execution_count": 3,
     "metadata": {},
     "output_type": "execute_result"
    }
   ],
   "source": [
    "os.getcwd()"
   ]
  },
  {
   "cell_type": "markdown",
   "id": "70f4e0c7-0188-40b5-a11e-999c288486d0",
   "metadata": {},
   "source": [
    "## hydrofunctions"
   ]
  },
  {
   "cell_type": "code",
   "execution_count": null,
   "id": "b6da4d84-2568-4a8f-a093-d7bfd623f0a7",
   "metadata": {},
   "outputs": [],
   "source": [
    "dir(hydrofunctions)\n",
    "help(hydrofunctions)\n",
    "hydrofunctions.__version__"
   ]
  },
  {
   "cell_type": "code",
   "execution_count": 28,
   "id": "efd94315-a2bf-46a4-9602-3238c42e6a0f",
   "metadata": {},
   "outputs": [
    {
     "name": "stdout",
     "output_type": "stream",
     "text": [
      "Requested data from https://waterservices.usgs.gov/nwis/dv/?format=json%2C1.1&sites=040851385&period=P10D\n",
      "USGS:040851385: FOX RIVER AT OIL TANK DEPOT AT GREEN BAY, WI\n",
      "    00010: <Day>  Temperature, water, degrees Celsius \n",
      "    00060: <Day>  Discharge, cubic feet per second \n",
      "    00095: <Day>  Specific conductance, water, unfiltered, microsiemens per centimeter at 25 degrees Celsius \n",
      "    00300: <Day>  Dissolved oxygen, water, unfiltered, milligrams per liter \n",
      "    00400: <Day>  pH, water, unfiltered, field, standard units \n",
      "    63680: <Day>  Turbidity, water, unfiltered, monochrome near infra-red LED light, 780-900 nm, detection angle 90 +-2.5 degrees, formazin nephelometric units (FNU) \n",
      "Start: 2021-10-10 00:00:00+00:00\n",
      "End:   2021-10-20 00:00:00+00:00\n",
      "11\n",
      "<Response [200]>\n"
     ]
    }
   ],
   "source": [
    "fox_river_gb_dv = hydrofunctions.NWIS(\"040851385\", \"dv\", period=\"P10D\")\n",
    "print(fox_river_gb_dv)\n",
    "print(len(fox_river_gb_dv.df().index))\n",
    "print(fox_river_gb_dv.response)"
   ]
  },
  {
   "cell_type": "code",
   "execution_count": 29,
   "id": "5ad8c581-9b16-4098-8621-524d4743ecc8",
   "metadata": {},
   "outputs": [
    {
     "name": "stdout",
     "output_type": "stream",
     "text": [
      "Requested data from https://waterservices.usgs.gov/nwis/iv/?format=json%2C1.1&sites=040851385&period=P10D\n",
      "USGS:040851385: FOX RIVER AT OIL TANK DEPOT AT GREEN BAY, WI\n",
      "    00010: <5 * Minutes>  Temperature, water, degrees Celsius [YSI]\n",
      "    00060: <5 * Minutes>  Discharge, cubic feet per second [(2)]\n",
      "    00065: <5 * Minutes>  Gage height, feet [PS-2]\n",
      "    00095: <5 * Minutes>  Specific conductance, water, unfiltered, microsiemens per centimeter at 25 degrees Celsius [YSI]\n",
      "    00300: <5 * Minutes>  Dissolved oxygen, water, unfiltered, milligrams per liter [YSI]\n",
      "    00400: <5 * Minutes>  pH, water, unfiltered, field, standard units [YSI]\n",
      "    63680: <5 * Minutes>  Turbidity, water, unfiltered, monochrome near infra-red LED light, 780-900 nm, detection angle 90 +-2.5 degrees, formazin nephelometric units (FNU) [YSI 6136]\n",
      "    72255: <5 * Minutes>  Mean water velocity for discharge computation, feet per second [X SONTEK]\n",
      "Start: 2021-10-11 01:45:00+00:00\n",
      "End:   2021-10-21 01:20:00+00:00\n",
      "2876\n",
      "<Response [200]>\n"
     ]
    }
   ],
   "source": [
    "fox_river_gb_iv = hydrofunctions.NWIS(\"040851385\", \"iv\", period=\"P10D\")\n",
    "print(fox_river_gb_iv)\n",
    "print(len(fox_river_gb_iv.df().index))\n",
    "print(fox_river_gb_iv.response)"
   ]
  },
  {
   "cell_type": "code",
   "execution_count": 27,
   "id": "40296198-985d-4e0c-baff-151932052e79",
   "metadata": {},
   "outputs": [
    {
     "name": "stdout",
     "output_type": "stream",
     "text": [
      "Requested data from https://waterservices.usgs.gov/nwis/iv/?format=json%2C1.1&sites=040851385&startDT=2021-10-11&endDT=2021-10-21\n",
      "USGS:040851385: FOX RIVER AT OIL TANK DEPOT AT GREEN BAY, WI\n",
      "    00010: <5 * Minutes>  Temperature, water, degrees Celsius [YSI]\n",
      "    00060: <5 * Minutes>  Discharge, cubic feet per second [(2)]\n",
      "    00065: <5 * Minutes>  Gage height, feet [PS-2]\n",
      "    00095: <5 * Minutes>  Specific conductance, water, unfiltered, microsiemens per centimeter at 25 degrees Celsius [YSI]\n",
      "    00300: <5 * Minutes>  Dissolved oxygen, water, unfiltered, milligrams per liter [YSI]\n",
      "    00400: <5 * Minutes>  pH, water, unfiltered, field, standard units [YSI]\n",
      "    63680: <5 * Minutes>  Turbidity, water, unfiltered, monochrome near infra-red LED light, 780-900 nm, detection angle 90 +-2.5 degrees, formazin nephelometric units (FNU) [YSI 6136]\n",
      "    72255: <5 * Minutes>  Mean water velocity for discharge computation, feet per second [X SONTEK]\n",
      "Start: 2021-10-11 05:00:00+00:00\n",
      "End:   2021-10-21 01:20:00+00:00\n",
      "2837\n",
      "<Response [200]>\n"
     ]
    }
   ],
   "source": [
    "fox_river_gb_iv = hydrofunctions.NWIS(\"040851385\", \"iv\", \"2021-10-11\", \"2021-10-21\")\n",
    "print(fox_river_gb_iv)\n",
    "print(len(fox_river_gb_iv.df().index))\n",
    "print(fox_river_gb_iv.response)"
   ]
  },
  {
   "cell_type": "code",
   "execution_count": 17,
   "id": "4124ec1c-11fd-41b2-9316-19fefe306403",
   "metadata": {},
   "outputs": [
    {
     "name": "stdout",
     "output_type": "stream",
     "text": [
      "Requested data from https://waterservices.usgs.gov/nwis/dv/?format=json%2C1.1&stateCd=WI\n"
     ]
    },
    {
     "data": {
      "text/plain": [
       "hydrofunctions.station.NWIS"
      ]
     },
     "execution_count": 17,
     "metadata": {},
     "output_type": "execute_result"
    }
   ],
   "source": [
    "wi_code = \"WI\"\n",
    "wi = hydrofunctions.NWIS(stateCd=wi_code)\n",
    "type(wi)"
   ]
  },
  {
   "cell_type": "code",
   "execution_count": null,
   "id": "21188f32-4ad7-4720-aeb6-0161f20668c8",
   "metadata": {},
   "outputs": [],
   "source": [
    "dir(wi)"
   ]
  },
  {
   "cell_type": "markdown",
   "id": "9f2d9860-2fb3-409c-bc81-6aea5ea1f34f",
   "metadata": {},
   "source": [
    "## python dataretrieval"
   ]
  },
  {
   "cell_type": "code",
   "execution_count": 24,
   "id": "4dfeedb1-bdd7-4519-8f2d-917f12558741",
   "metadata": {},
   "outputs": [
    {
     "name": "stdout",
     "output_type": "stream",
     "text": [
      "Help on package dataretrieval:\n",
      "\n",
      "NAME\n",
      "    dataretrieval\n",
      "\n",
      "PACKAGE CONTENTS\n",
      "    codes (package)\n",
      "    nadp\n",
      "    nwis\n",
      "    streamstats\n",
      "    utils\n",
      "    wqp\n",
      "\n",
      "FILE\n",
      "    /home/mlr/env/hydro/lib/python3.8/site-packages/dataretrieval/__init__.py\n",
      "\n",
      "\n",
      "['__builtins__', '__cached__', '__doc__', '__file__', '__loader__', '__name__', '__package__', '__path__', '__spec__', 'codes', 'nwis', 'utils']\n"
     ]
    }
   ],
   "source": [
    "help(dataretrieval)\n",
    "print(dir(dataretrieval))\n",
    "#dataretrieval.__version__"
   ]
  },
  {
   "cell_type": "code",
   "execution_count": null,
   "id": "13d62529-867c-459f-89ae-37d54b46e7a1",
   "metadata": {},
   "outputs": [],
   "source": [
    "# dataretrivel is broken into modules, need to import individual pieaces as needed\n",
    "from dataretrieval import nwis, utils\n",
    "\n",
    "# refernence gage, time, and data\n",
    "fox_river_gb = \"040851385\"\n",
    "start = \"2021-10-10\"\n",
    "end = \"2021-10-20\"\n",
    "data = [\"iv\", \"dv\", \"qwdata\", \"site\"]\n",
    "\n",
    "# attempt to get iv, dv, site, and qwdata... raise error if data does not exist\n",
    "for d in data:\n",
    "    try:\n",
    "        nwis.get_record(sites=fox_river_gb, service=d, start=start, end=end).info()\n",
    "        print(\"-\"*20)\n",
    "\n",
    "    except utils.NoSitesError as e:\n",
    "        print(f\"{d}: {e}\")\n",
    "        print(\"-\"*20)"
   ]
  },
  {
   "cell_type": "code",
   "execution_count": 53,
   "id": "58aca9f8-1af3-43ce-a54c-bf6d433ccbd7",
   "metadata": {},
   "outputs": [],
   "source": [
    "# use specific dataretrieval functions to get data, these follow R dataRetrieval style\n",
    "from dataretrieval import nwis\n",
    "\n",
    "# refernence gage, time, and data\n",
    "fox_river_gb = \"040851385\"\n",
    "start = \"2021-10-10\"\n",
    "end = \"2021-10-20\"\n",
    "\n",
    "# returns a tuple with dataframe and metadata class\n",
    "dv = nwis.get_dv(start=start, end=end, sites=fox_river_gb)\n",
    "iv = nwis.get_iv(start=start, end=end, sites=fox_river_gb)\n",
    "info = nwis.get_info(sites=fox_river_gb)"
   ]
  },
  {
   "cell_type": "code",
   "execution_count": 54,
   "id": "a31008f6-81ff-4cc1-94ed-17bb1591e1a2",
   "metadata": {},
   "outputs": [
    {
     "name": "stdout",
     "output_type": "stream",
     "text": [
      "<class 'pandas.core.frame.DataFrame'>\n",
      "<class 'dataretrieval.utils.Metadata'>\n"
     ]
    }
   ],
   "source": [
    "type(dv)\n",
    "for i in dv:\n",
    "    print(type(i))"
   ]
  },
  {
   "cell_type": "code",
   "execution_count": 55,
   "id": "9fce4648-5b69-47a1-a3bc-186211f0e601",
   "metadata": {},
   "outputs": [
    {
     "name": "stdout",
     "output_type": "stream",
     "text": [
      "<class 'pandas.core.frame.DataFrame'>\n",
      "<class 'dataretrieval.utils.Metadata'>\n"
     ]
    }
   ],
   "source": [
    "type(iv)\n",
    "for i in dv:\n",
    "    print(type(i))"
   ]
  },
  {
   "cell_type": "code",
   "execution_count": 56,
   "id": "d118f82e-d963-4414-b94e-b5d39acfa25e",
   "metadata": {},
   "outputs": [
    {
     "name": "stdout",
     "output_type": "stream",
     "text": [
      "<class 'pandas.core.frame.DataFrame'>\n",
      "<class 'dataretrieval.utils.Metadata'>\n"
     ]
    }
   ],
   "source": [
    "type(info)\n",
    "for i in df_dv:\n",
    "    print(type(i))"
   ]
  },
  {
   "cell_type": "code",
   "execution_count": 58,
   "id": "0a2f101e-8858-4d0c-a95a-c9b6f22ff59a",
   "metadata": {},
   "outputs": [
    {
     "data": {
      "text/html": [
       "<div>\n",
       "<style scoped>\n",
       "    .dataframe tbody tr th:only-of-type {\n",
       "        vertical-align: middle;\n",
       "    }\n",
       "\n",
       "    .dataframe tbody tr th {\n",
       "        vertical-align: top;\n",
       "    }\n",
       "\n",
       "    .dataframe thead th {\n",
       "        text-align: right;\n",
       "    }\n",
       "</style>\n",
       "<table border=\"1\" class=\"dataframe\">\n",
       "  <thead>\n",
       "    <tr style=\"text-align: right;\">\n",
       "      <th></th>\n",
       "      <th>0</th>\n",
       "    </tr>\n",
       "  </thead>\n",
       "  <tbody>\n",
       "    <tr>\n",
       "      <th>agency_cd</th>\n",
       "      <td>USGS</td>\n",
       "    </tr>\n",
       "    <tr>\n",
       "      <th>site_no</th>\n",
       "      <td>040851385</td>\n",
       "    </tr>\n",
       "    <tr>\n",
       "      <th>station_nm</th>\n",
       "      <td>FOX RIVER AT OIL TANK DEPOT AT GREEN BAY, WI</td>\n",
       "    </tr>\n",
       "    <tr>\n",
       "      <th>site_tp_cd</th>\n",
       "      <td>ST</td>\n",
       "    </tr>\n",
       "    <tr>\n",
       "      <th>lat_va</th>\n",
       "      <td>443143</td>\n",
       "    </tr>\n",
       "  </tbody>\n",
       "</table>\n",
       "</div>"
      ],
      "text/plain": [
       "                                                       0\n",
       "agency_cd                                           USGS\n",
       "site_no                                        040851385\n",
       "station_nm  FOX RIVER AT OIL TANK DEPOT AT GREEN BAY, WI\n",
       "site_tp_cd                                            ST\n",
       "lat_va                                            443143"
      ]
     },
     "execution_count": 58,
     "metadata": {},
     "output_type": "execute_result"
    }
   ],
   "source": [
    "# pull out info dataframe and transpose\n",
    "df_info = info[0]\n",
    "df_info.T.head()"
   ]
  },
  {
   "cell_type": "code",
   "execution_count": 60,
   "id": "031f306c-dc36-4450-b2e6-f91fd97757e9",
   "metadata": {},
   "outputs": [
    {
     "name": "stdout",
     "output_type": "stream",
     "text": [
      "\n",
      "\n",
      " US Geological Survey\n",
      " retrieved: 2021-10-22 17:02:00 -04:00\t(vaas01)\n",
      "\n",
      " The Site File stores location and general information about groundwater,\n",
      " surface water, and meteorological sites\n",
      " for sites in USA.\n",
      "\n",
      " File-format description:  http://help.waterdata.usgs.gov/faq/about-tab-delimited-output\n",
      " Automated-retrieval info: http://waterservices.usgs.gov/rest/Site-Service.html\n",
      "\n",
      " Contact:   gs-w_support_nwisweb@usgs.gov\n",
      "\n",
      " The following selected fields are included in this output:\n",
      "\n",
      "  agency_cd       -- Agency\n",
      "  site_no         -- Site identification number\n",
      "  station_nm      -- Site name\n",
      "  site_tp_cd      -- Site type\n",
      "  lat_va          -- DMS latitude\n",
      "  long_va         -- DMS longitude\n",
      "  dec_lat_va      -- Decimal latitude\n",
      "  dec_long_va     -- Decimal longitude\n",
      "  coord_meth_cd   -- Latitude-longitude method\n",
      "  coord_acy_cd    -- Latitude-longitude accuracy\n",
      "  coord_datum_cd  -- Latitude-longitude datum\n",
      "  dec_coord_datum_cd -- Decimal Latitude-longitude datum\n",
      "  district_cd     -- District code\n",
      "  state_cd        -- State code\n",
      "  county_cd       -- County code\n",
      "  country_cd      -- Country code\n",
      "  land_net_ds     -- Land net location description\n",
      "  map_nm          -- Name of location map\n",
      "  map_scale_fc    -- Scale of location map\n",
      "  alt_va          -- Altitude of Gage/land surface\n",
      "  alt_meth_cd     -- Method altitude determined\n",
      "  alt_acy_va      -- Altitude accuracy\n",
      "  alt_datum_cd    -- Altitude datum\n",
      "  huc_cd          -- Hydrologic unit code\n",
      "  basin_cd        -- Drainage basin code\n",
      "  topo_cd         -- Topographic setting code\n",
      "  instruments_cd  -- Flags for instruments at site\n",
      "  construction_dt -- Date of first construction\n",
      "  inventory_dt    -- Date site established or inventoried\n",
      "  drain_area_va   -- Drainage area\n",
      "  contrib_drain_area_va -- Contributing drainage area\n",
      "  tz_cd           -- Time Zone abbreviation\n",
      "  local_time_fg   -- Site honors Daylight Savings Time\n",
      "  reliability_cd  -- Data reliability code\n",
      "  gw_file_cd      -- Data-other GW files\n",
      "  nat_aqfr_cd     -- National aquifer code\n",
      "  aqfr_cd         -- Local aquifer code\n",
      "  aqfr_type_cd    -- Local aquifer type code\n",
      "  well_depth_va   -- Well depth\n",
      "  hole_depth_va   -- Hole depth\n",
      "  depth_src_cd    -- Source of depth data\n",
      "  project_no      -- Project number\n",
      "\n",
      "\n",
      "None\n",
      "{'Date': 'Fri, 22 Oct 2021 21:01:59 GMT', 'Server': 'Apache-Coyote/1.1', 'Strict-Transport-Security': 'max-age=31536000', 'Vary': 'Accept-Encoding', 'Content-Encoding': 'gzip', 'Content-Type': 'text/plain;charset=UTF-8', 'Cache-Control': 'max-age=900', 'Expires': 'Fri, 22 Oct 2021 21:17:00 GMT', 'X-UA-Compatible': 'IE=edge,chrome=1', 'Access-Control-Allow-Origin': '*', 'X-Frame-Options': 'deny', 'Keep-Alive': 'timeout=5, max=100', 'Connection': 'Keep-Alive', 'Transfer-Encoding': 'chunked'}\n",
      "0:00:00.401209\n",
      "<function _set_metadata.<locals>.<lambda> at 0x7f65cea0bdc0>\n",
      "None\n",
      "https://waterservices.usgs.gov/nwis/site?sites=040851385&siteOutput=Expanded&format=rdb\n",
      "None\n"
     ]
    }
   ],
   "source": [
    "# pull out metadata class and look at attributes, can't remember a better way to print\n",
    "meta_info = info[1]\n",
    "print(meta_info.comment)\n",
    "print(meta_info.disclaimer)\n",
    "print(meta_info.header)\n",
    "print(meta_info.query_time)\n",
    "print(meta_info.site_info)\n",
    "print(meta_info.statistic_info)\n",
    "print(meta_info.url)\n",
    "print(meta_info.variable_info)"
   ]
  },
  {
   "cell_type": "code",
   "execution_count": 48,
   "id": "b491f628-f26c-47a7-bdea-1cc2514711a3",
   "metadata": {},
   "outputs": [
    {
     "data": {
      "text/plain": [
       "['__class__',\n",
       " '__delattr__',\n",
       " '__dict__',\n",
       " '__dir__',\n",
       " '__doc__',\n",
       " '__eq__',\n",
       " '__format__',\n",
       " '__ge__',\n",
       " '__getattribute__',\n",
       " '__gt__',\n",
       " '__hash__',\n",
       " '__init__',\n",
       " '__init_subclass__',\n",
       " '__le__',\n",
       " '__lt__',\n",
       " '__module__',\n",
       " '__ne__',\n",
       " '__new__',\n",
       " '__reduce__',\n",
       " '__reduce_ex__',\n",
       " '__repr__',\n",
       " '__setattr__',\n",
       " '__sizeof__',\n",
       " '__str__',\n",
       " '__subclasshook__',\n",
       " '__weakref__',\n",
       " 'comment',\n",
       " 'disclaimer',\n",
       " 'header',\n",
       " 'query_time',\n",
       " 'site_info',\n",
       " 'statistic_info',\n",
       " 'url',\n",
       " 'variable_info']"
      ]
     },
     "execution_count": 48,
     "metadata": {},
     "output_type": "execute_result"
    }
   ],
   "source": [
    "dir(meta_info)"
   ]
  },
  {
   "cell_type": "code",
   "execution_count": null,
   "id": "37bfab73-d21b-4eea-98f5-68d72420f6b7",
   "metadata": {},
   "outputs": [],
   "source": []
  },
  {
   "cell_type": "code",
   "execution_count": null,
   "id": "9f59a51d-00fd-476d-96c0-05332d8c51ca",
   "metadata": {},
   "outputs": [],
   "source": []
  }
 ],
 "metadata": {
  "kernelspec": {
   "display_name": "Python 3 (ipykernel)",
   "language": "python",
   "name": "python3"
  },
  "language_info": {
   "codemirror_mode": {
    "name": "ipython",
    "version": 3
   },
   "file_extension": ".py",
   "mimetype": "text/x-python",
   "name": "python",
   "nbconvert_exporter": "python",
   "pygments_lexer": "ipython3",
   "version": "3.8.10"
  }
 },
 "nbformat": 4,
 "nbformat_minor": 5
}
