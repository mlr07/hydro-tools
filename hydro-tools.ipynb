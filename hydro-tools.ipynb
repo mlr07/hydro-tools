{
 "cells": [
  {
   "cell_type": "code",
   "execution_count": 2,
   "id": "45f76e26-8f10-4ac9-b4bf-4ec5e42df54f",
   "metadata": {
    "tags": []
   },
   "outputs": [],
   "source": [
    "import os\n",
    "import sys\n",
    "\n",
    "import numpy as np\n",
    "import pandas as pd\n",
    "import matplotlib.pyplot as plt\n",
    "\n",
    "import dataretrieval\n",
    "import hydrofunctions\n",
    "#import pygeohydro\n",
    "#import ulmo\n",
    "#import wellapplication\n",
    "\n",
    "import pastas"
   ]
  },
  {
   "cell_type": "code",
   "execution_count": 3,
   "id": "a491a343-ab94-4638-8626-1e6f2d756ad7",
   "metadata": {},
   "outputs": [
    {
     "data": {
      "text/plain": [
       "'/home/mlr/git/hydro-tools'"
      ]
     },
     "execution_count": 3,
     "metadata": {},
     "output_type": "execute_result"
    }
   ],
   "source": [
    "os.getcwd()"
   ]
  },
  {
   "cell_type": "markdown",
   "id": "70f4e0c7-0188-40b5-a11e-999c288486d0",
   "metadata": {},
   "source": [
    "## hydrofunctions"
   ]
  },
  {
   "cell_type": "code",
   "execution_count": null,
   "id": "b6da4d84-2568-4a8f-a093-d7bfd623f0a7",
   "metadata": {},
   "outputs": [],
   "source": [
    "dir(hydrofunctions)\n",
    "help(hydrofunctions)\n",
    "hydrofunctions.__version__"
   ]
  },
  {
   "cell_type": "code",
   "execution_count": 28,
   "id": "efd94315-a2bf-46a4-9602-3238c42e6a0f",
   "metadata": {},
   "outputs": [
    {
     "name": "stdout",
     "output_type": "stream",
     "text": [
      "Requested data from https://waterservices.usgs.gov/nwis/dv/?format=json%2C1.1&sites=040851385&period=P10D\n",
      "USGS:040851385: FOX RIVER AT OIL TANK DEPOT AT GREEN BAY, WI\n",
      "    00010: <Day>  Temperature, water, degrees Celsius \n",
      "    00060: <Day>  Discharge, cubic feet per second \n",
      "    00095: <Day>  Specific conductance, water, unfiltered, microsiemens per centimeter at 25 degrees Celsius \n",
      "    00300: <Day>  Dissolved oxygen, water, unfiltered, milligrams per liter \n",
      "    00400: <Day>  pH, water, unfiltered, field, standard units \n",
      "    63680: <Day>  Turbidity, water, unfiltered, monochrome near infra-red LED light, 780-900 nm, detection angle 90 +-2.5 degrees, formazin nephelometric units (FNU) \n",
      "Start: 2021-10-10 00:00:00+00:00\n",
      "End:   2021-10-20 00:00:00+00:00\n",
      "11\n",
      "<Response [200]>\n"
     ]
    }
   ],
   "source": [
    "fox_river_gb_dv = hydrofunctions.NWIS(\"040851385\", \"dv\", period=\"P10D\")\n",
    "print(fox_river_gb_dv)\n",
    "print(len(fox_river_gb_dv.df().index))\n",
    "print(fox_river_gb_dv.response)"
   ]
  },
  {
   "cell_type": "code",
   "execution_count": 29,
   "id": "5ad8c581-9b16-4098-8621-524d4743ecc8",
   "metadata": {},
   "outputs": [
    {
     "name": "stdout",
     "output_type": "stream",
     "text": [
      "Requested data from https://waterservices.usgs.gov/nwis/iv/?format=json%2C1.1&sites=040851385&period=P10D\n",
      "USGS:040851385: FOX RIVER AT OIL TANK DEPOT AT GREEN BAY, WI\n",
      "    00010: <5 * Minutes>  Temperature, water, degrees Celsius [YSI]\n",
      "    00060: <5 * Minutes>  Discharge, cubic feet per second [(2)]\n",
      "    00065: <5 * Minutes>  Gage height, feet [PS-2]\n",
      "    00095: <5 * Minutes>  Specific conductance, water, unfiltered, microsiemens per centimeter at 25 degrees Celsius [YSI]\n",
      "    00300: <5 * Minutes>  Dissolved oxygen, water, unfiltered, milligrams per liter [YSI]\n",
      "    00400: <5 * Minutes>  pH, water, unfiltered, field, standard units [YSI]\n",
      "    63680: <5 * Minutes>  Turbidity, water, unfiltered, monochrome near infra-red LED light, 780-900 nm, detection angle 90 +-2.5 degrees, formazin nephelometric units (FNU) [YSI 6136]\n",
      "    72255: <5 * Minutes>  Mean water velocity for discharge computation, feet per second [X SONTEK]\n",
      "Start: 2021-10-11 01:45:00+00:00\n",
      "End:   2021-10-21 01:20:00+00:00\n",
      "2876\n",
      "<Response [200]>\n"
     ]
    }
   ],
   "source": [
    "fox_river_gb_iv = hydrofunctions.NWIS(\"040851385\", \"iv\", period=\"P10D\")\n",
    "print(fox_river_gb_iv)\n",
    "print(len(fox_river_gb_iv.df().index))\n",
    "print(fox_river_gb_iv.response)"
   ]
  },
  {
   "cell_type": "code",
   "execution_count": 27,
   "id": "40296198-985d-4e0c-baff-151932052e79",
   "metadata": {},
   "outputs": [
    {
     "name": "stdout",
     "output_type": "stream",
     "text": [
      "Requested data from https://waterservices.usgs.gov/nwis/iv/?format=json%2C1.1&sites=040851385&startDT=2021-10-11&endDT=2021-10-21\n",
      "USGS:040851385: FOX RIVER AT OIL TANK DEPOT AT GREEN BAY, WI\n",
      "    00010: <5 * Minutes>  Temperature, water, degrees Celsius [YSI]\n",
      "    00060: <5 * Minutes>  Discharge, cubic feet per second [(2)]\n",
      "    00065: <5 * Minutes>  Gage height, feet [PS-2]\n",
      "    00095: <5 * Minutes>  Specific conductance, water, unfiltered, microsiemens per centimeter at 25 degrees Celsius [YSI]\n",
      "    00300: <5 * Minutes>  Dissolved oxygen, water, unfiltered, milligrams per liter [YSI]\n",
      "    00400: <5 * Minutes>  pH, water, unfiltered, field, standard units [YSI]\n",
      "    63680: <5 * Minutes>  Turbidity, water, unfiltered, monochrome near infra-red LED light, 780-900 nm, detection angle 90 +-2.5 degrees, formazin nephelometric units (FNU) [YSI 6136]\n",
      "    72255: <5 * Minutes>  Mean water velocity for discharge computation, feet per second [X SONTEK]\n",
      "Start: 2021-10-11 05:00:00+00:00\n",
      "End:   2021-10-21 01:20:00+00:00\n",
      "2837\n",
      "<Response [200]>\n"
     ]
    }
   ],
   "source": [
    "fox_river_gb_iv = hydrofunctions.NWIS(\"040851385\", \"iv\", \"2021-10-11\", \"2021-10-21\")\n",
    "print(fox_river_gb_iv)\n",
    "print(len(fox_river_gb_iv.df().index))\n",
    "print(fox_river_gb_iv.response)"
   ]
  },
  {
   "cell_type": "code",
   "execution_count": 17,
   "id": "4124ec1c-11fd-41b2-9316-19fefe306403",
   "metadata": {},
   "outputs": [
    {
     "name": "stdout",
     "output_type": "stream",
     "text": [
      "Requested data from https://waterservices.usgs.gov/nwis/dv/?format=json%2C1.1&stateCd=WI\n"
     ]
    },
    {
     "data": {
      "text/plain": [
       "hydrofunctions.station.NWIS"
      ]
     },
     "execution_count": 17,
     "metadata": {},
     "output_type": "execute_result"
    }
   ],
   "source": [
    "wi_code = \"WI\"\n",
    "wi = hydrofunctions.NWIS(stateCd=wi_code)\n",
    "type(wi)"
   ]
  },
  {
   "cell_type": "code",
   "execution_count": null,
   "id": "21188f32-4ad7-4720-aeb6-0161f20668c8",
   "metadata": {},
   "outputs": [],
   "source": [
    "dir(wi)"
   ]
  },
  {
   "cell_type": "markdown",
   "id": "9f2d9860-2fb3-409c-bc81-6aea5ea1f34f",
   "metadata": {},
   "source": [
    "## python dataretrieval"
   ]
  },
  {
   "cell_type": "code",
   "execution_count": 24,
   "id": "4dfeedb1-bdd7-4519-8f2d-917f12558741",
   "metadata": {},
   "outputs": [
    {
     "name": "stdout",
     "output_type": "stream",
     "text": [
      "Help on package dataretrieval:\n",
      "\n",
      "NAME\n",
      "    dataretrieval\n",
      "\n",
      "PACKAGE CONTENTS\n",
      "    codes (package)\n",
      "    nadp\n",
      "    nwis\n",
      "    streamstats\n",
      "    utils\n",
      "    wqp\n",
      "\n",
      "FILE\n",
      "    /home/mlr/env/hydro/lib/python3.8/site-packages/dataretrieval/__init__.py\n",
      "\n",
      "\n",
      "['__builtins__', '__cached__', '__doc__', '__file__', '__loader__', '__name__', '__package__', '__path__', '__spec__', 'codes', 'nwis', 'utils']\n"
     ]
    }
   ],
   "source": [
    "help(dataretrieval)\n",
    "print(dir(dataretrieval))\n",
    "#dataretrieval.__version__"
   ]
  },
  {
   "cell_type": "code",
   "execution_count": 25,
   "id": "13d62529-867c-459f-89ae-37d54b46e7a1",
   "metadata": {},
   "outputs": [
    {
     "name": "stdout",
     "output_type": "stream",
     "text": [
      "<class 'pandas.core.frame.DataFrame'>\n",
      "DatetimeIndex: 3156 entries, 2021-10-10 00:00:00-05:00 to 2021-10-20 23:55:00-05:00\n",
      "Data columns (total 17 columns):\n",
      " #   Column             Non-Null Count  Dtype  \n",
      "---  ------             --------------  -----  \n",
      " 0   00010_ysi          3156 non-null   float64\n",
      " 1   00010_ysi_cd       3156 non-null   object \n",
      " 2   site_no            3156 non-null   object \n",
      " 3   00060_2            3156 non-null   float64\n",
      " 4   00060_2_cd         3156 non-null   object \n",
      " 5   00065_ps-2         3156 non-null   float64\n",
      " 6   00065_ps-2_cd      3156 non-null   object \n",
      " 7   00095_ysi          3156 non-null   float64\n",
      " 8   00095_ysi_cd       3156 non-null   object \n",
      " 9   00300_ysi          3156 non-null   float64\n",
      " 10  00300_ysi_cd       3156 non-null   object \n",
      " 11  00400_ysi          3156 non-null   float64\n",
      " 12  00400_ysi_cd       3156 non-null   object \n",
      " 13  63680_ysi 6136     3156 non-null   float64\n",
      " 14  63680_ysi 6136_cd  3156 non-null   object \n",
      " 15  72255_x sontek     3156 non-null   float64\n",
      " 16  72255_x sontek_cd  3156 non-null   object \n",
      "dtypes: float64(8), object(9)\n",
      "memory usage: 443.8+ KB\n",
      "--------------------\n",
      "<class 'pandas.core.frame.DataFrame'>\n",
      "DatetimeIndex: 11 entries, 2021-10-10 00:00:00+00:00 to 2021-10-20 00:00:00+00:00\n",
      "Data columns (total 33 columns):\n",
      " #   Column            Non-Null Count  Dtype  \n",
      "---  ------            --------------  -----  \n",
      " 0   00010_Maximum     11 non-null     float64\n",
      " 1   00010_Maximum_cd  11 non-null     object \n",
      " 2   site_no           11 non-null     object \n",
      " 3   00010_Minimum     11 non-null     float64\n",
      " 4   00010_Minimum_cd  11 non-null     object \n",
      " 5   00010_Mean        11 non-null     float64\n",
      " 6   00010_Mean_cd     11 non-null     object \n",
      " 7   00060_Mean        11 non-null     float64\n",
      " 8   00060_Mean_cd     11 non-null     object \n",
      " 9   00095_Maximum     11 non-null     float64\n",
      " 10  00095_Maximum_cd  11 non-null     object \n",
      " 11  00095_Minimum     11 non-null     float64\n",
      " 12  00095_Minimum_cd  11 non-null     object \n",
      " 13  00095_Mean        11 non-null     float64\n",
      " 14  00095_Mean_cd     11 non-null     object \n",
      " 15  00300_Maximum     11 non-null     float64\n",
      " 16  00300_Maximum_cd  11 non-null     object \n",
      " 17  00300_Minimum     11 non-null     float64\n",
      " 18  00300_Minimum_cd  11 non-null     object \n",
      " 19  00300_Mean        11 non-null     float64\n",
      " 20  00300_Mean_cd     11 non-null     object \n",
      " 21  00400_Maximum     11 non-null     float64\n",
      " 22  00400_Maximum_cd  11 non-null     object \n",
      " 23  00400_Minimum     11 non-null     float64\n",
      " 24  00400_Minimum_cd  11 non-null     object \n",
      " 25  00400_Median      11 non-null     float64\n",
      " 26  00400_Median_cd   11 non-null     object \n",
      " 27  63680_Maximum     11 non-null     float64\n",
      " 28  63680_Maximum_cd  11 non-null     object \n",
      " 29  63680_Minimum     11 non-null     float64\n",
      " 30  63680_Minimum_cd  11 non-null     object \n",
      " 31  63680_Mean        11 non-null     float64\n",
      " 32  63680_Mean_cd     11 non-null     object \n",
      "dtypes: float64(16), object(17)\n",
      "memory usage: 2.9+ KB\n",
      "--------------------\n",
      "qwdata: No sites/data found using the selection criteria specified in url: https://nwis.waterdata.usgs.gov/nwis/qwdata?site_no=040851385&begin_date=2021-10-10&end_date=2021-10-20&qw_sample_wide=qw_sample_wide&agency_cd=USGS&format=rdb&pm_cd_compare=Greater+than&inventory_output=0&rdb_inventory_output=file&TZoutput=0&rdb_qw_attributes=expanded&date_format=YYYY-MM-DD&rdb_compression=value&submmitted_form=brief_list\n",
      "--------------------\n",
      "<class 'pandas.core.frame.DataFrame'>\n",
      "RangeIndex: 1 entries, 0 to 0\n",
      "Data columns (total 42 columns):\n",
      " #   Column                 Non-Null Count  Dtype  \n",
      "---  ------                 --------------  -----  \n",
      " 0   agency_cd              1 non-null      object \n",
      " 1   site_no                1 non-null      object \n",
      " 2   station_nm             1 non-null      object \n",
      " 3   site_tp_cd             1 non-null      object \n",
      " 4   lat_va                 1 non-null      int64  \n",
      " 5   long_va                1 non-null      int64  \n",
      " 6   dec_lat_va             1 non-null      float64\n",
      " 7   dec_long_va            1 non-null      float64\n",
      " 8   coord_meth_cd          1 non-null      object \n",
      " 9   coord_acy_cd           1 non-null      object \n",
      " 10  coord_datum_cd         1 non-null      object \n",
      " 11  dec_coord_datum_cd     1 non-null      object \n",
      " 12  district_cd            1 non-null      int64  \n",
      " 13  state_cd               1 non-null      int64  \n",
      " 14  county_cd              1 non-null      int64  \n",
      " 15  country_cd             1 non-null      object \n",
      " 16  land_net_ds            1 non-null      object \n",
      " 17  map_nm                 1 non-null      object \n",
      " 18  map_scale_fc           1 non-null      int64  \n",
      " 19  alt_va                 1 non-null      int64  \n",
      " 20  alt_meth_cd            1 non-null      object \n",
      " 21  alt_acy_va             1 non-null      int64  \n",
      " 22  alt_datum_cd           1 non-null      object \n",
      " 23  huc_cd                 1 non-null      int64  \n",
      " 24  basin_cd               0 non-null      float64\n",
      " 25  topo_cd                1 non-null      object \n",
      " 26  instruments_cd         1 non-null      object \n",
      " 27  construction_dt        0 non-null      float64\n",
      " 28  inventory_dt           0 non-null      float64\n",
      " 29  drain_area_va          1 non-null      int64  \n",
      " 30  contrib_drain_area_va  0 non-null      float64\n",
      " 31  tz_cd                  1 non-null      object \n",
      " 32  local_time_fg          1 non-null      object \n",
      " 33  reliability_cd         0 non-null      float64\n",
      " 34  gw_file_cd             1 non-null      object \n",
      " 35  nat_aqfr_cd            0 non-null      float64\n",
      " 36  aqfr_cd                0 non-null      float64\n",
      " 37  aqfr_type_cd           0 non-null      float64\n",
      " 38  well_depth_va          0 non-null      float64\n",
      " 39  hole_depth_va          0 non-null      float64\n",
      " 40  depth_src_cd           0 non-null      float64\n",
      " 41  project_no             1 non-null      int64  \n",
      "dtypes: float64(13), int64(11), object(18)\n",
      "memory usage: 464.0+ bytes\n",
      "--------------------\n"
     ]
    }
   ],
   "source": [
    "# dataretrivel is broken into modules, need to import individual pieaces as needed\n",
    "from dataretrieval import nwis, utils\n",
    "\n",
    "# refernence gage, time, and data\n",
    "fox_river_gb = \"040851385\"\n",
    "start = \"2021-10-10\"\n",
    "end = \"2021-10-20\"\n",
    "data = [\"iv\", \"dv\", \"qwdata\", \"site\"]\n",
    "\n",
    "# attempt to get iv, dv, site, and qwdata... raise error if data does not exist\n",
    "for d in data:\n",
    "    try:\n",
    "        nwis.get_record(sites=fox_river_gb, service=d, start=start, end=end).info()\n",
    "        print(\"-\"*20)\n",
    "\n",
    "    except utils.NoSitesError as e:\n",
    "        print(f\"{d}: {e}\")\n",
    "        print(\"-\"*20)"
   ]
  },
  {
   "cell_type": "code",
   "execution_count": null,
   "id": "58aca9f8-1af3-43ce-a54c-bf6d433ccbd7",
   "metadata": {},
   "outputs": [],
   "source": []
  },
  {
   "cell_type": "code",
   "execution_count": null,
   "id": "a31008f6-81ff-4cc1-94ed-17bb1591e1a2",
   "metadata": {},
   "outputs": [],
   "source": []
  },
  {
   "cell_type": "code",
   "execution_count": null,
   "id": "9fce4648-5b69-47a1-a3bc-186211f0e601",
   "metadata": {},
   "outputs": [],
   "source": []
  }
 ],
 "metadata": {
  "kernelspec": {
   "display_name": "Python 3 (ipykernel)",
   "language": "python",
   "name": "python3"
  },
  "language_info": {
   "codemirror_mode": {
    "name": "ipython",
    "version": 3
   },
   "file_extension": ".py",
   "mimetype": "text/x-python",
   "name": "python",
   "nbconvert_exporter": "python",
   "pygments_lexer": "ipython3",
   "version": "3.8.10"
  }
 },
 "nbformat": 4,
 "nbformat_minor": 5
}
