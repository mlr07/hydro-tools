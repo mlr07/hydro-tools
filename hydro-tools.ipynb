{
 "cells": [
  {
   "cell_type": "code",
   "execution_count": 1,
   "id": "45f76e26-8f10-4ac9-b4bf-4ec5e42df54f",
   "metadata": {
    "tags": []
   },
   "outputs": [],
   "source": [
    "import os\n",
    "import sys\n",
    "\n",
    "import numpy as np\n",
    "import pandas as pd\n",
    "import matplotlib.pyplot as plt\n",
    "\n",
    "import dataretrieval\n",
    "import hydrofunctions\n",
    "import pygeohydro\n",
    "import ulmo\n",
    "import wellapplication\n",
    "\n",
    "import pastas"
   ]
  },
  {
   "cell_type": "code",
   "execution_count": 7,
   "id": "a491a343-ab94-4638-8626-1e6f2d756ad7",
   "metadata": {},
   "outputs": [
    {
     "data": {
      "text/plain": [
       "'/home/mlr/Desktop/hydro-tools'"
      ]
     },
     "execution_count": 7,
     "metadata": {},
     "output_type": "execute_result"
    }
   ],
   "source": [
    "os.getcwd()"
   ]
  },
  {
   "cell_type": "markdown",
   "id": "70f4e0c7-0188-40b5-a11e-999c288486d0",
   "metadata": {},
   "source": [
    "## hydrofunctions"
   ]
  },
  {
   "cell_type": "code",
   "execution_count": null,
   "id": "b6da4d84-2568-4a8f-a093-d7bfd623f0a7",
   "metadata": {},
   "outputs": [],
   "source": [
    "dir(hydrofunctions)\n",
    "help(hydrofunctions)\n",
    "hydrofunctions.__version__"
   ]
  },
  {
   "cell_type": "code",
   "execution_count": 28,
   "id": "efd94315-a2bf-46a4-9602-3238c42e6a0f",
   "metadata": {},
   "outputs": [
    {
     "name": "stdout",
     "output_type": "stream",
     "text": [
      "Requested data from https://waterservices.usgs.gov/nwis/dv/?format=json%2C1.1&sites=040851385&period=P10D\n",
      "USGS:040851385: FOX RIVER AT OIL TANK DEPOT AT GREEN BAY, WI\n",
      "    00010: <Day>  Temperature, water, degrees Celsius \n",
      "    00060: <Day>  Discharge, cubic feet per second \n",
      "    00095: <Day>  Specific conductance, water, unfiltered, microsiemens per centimeter at 25 degrees Celsius \n",
      "    00300: <Day>  Dissolved oxygen, water, unfiltered, milligrams per liter \n",
      "    00400: <Day>  pH, water, unfiltered, field, standard units \n",
      "    63680: <Day>  Turbidity, water, unfiltered, monochrome near infra-red LED light, 780-900 nm, detection angle 90 +-2.5 degrees, formazin nephelometric units (FNU) \n",
      "Start: 2021-10-10 00:00:00+00:00\n",
      "End:   2021-10-20 00:00:00+00:00\n",
      "11\n",
      "<Response [200]>\n"
     ]
    }
   ],
   "source": [
    "fox_river_gb_dv = hydrofunctions.NWIS(\"040851385\", \"dv\", period=\"P10D\")\n",
    "print(fox_river_gb_dv)\n",
    "print(len(fox_river_gb_dv.df().index))\n",
    "print(fox_river_gb_dv.response)"
   ]
  },
  {
   "cell_type": "code",
   "execution_count": 29,
   "id": "5ad8c581-9b16-4098-8621-524d4743ecc8",
   "metadata": {},
   "outputs": [
    {
     "name": "stdout",
     "output_type": "stream",
     "text": [
      "Requested data from https://waterservices.usgs.gov/nwis/iv/?format=json%2C1.1&sites=040851385&period=P10D\n",
      "USGS:040851385: FOX RIVER AT OIL TANK DEPOT AT GREEN BAY, WI\n",
      "    00010: <5 * Minutes>  Temperature, water, degrees Celsius [YSI]\n",
      "    00060: <5 * Minutes>  Discharge, cubic feet per second [(2)]\n",
      "    00065: <5 * Minutes>  Gage height, feet [PS-2]\n",
      "    00095: <5 * Minutes>  Specific conductance, water, unfiltered, microsiemens per centimeter at 25 degrees Celsius [YSI]\n",
      "    00300: <5 * Minutes>  Dissolved oxygen, water, unfiltered, milligrams per liter [YSI]\n",
      "    00400: <5 * Minutes>  pH, water, unfiltered, field, standard units [YSI]\n",
      "    63680: <5 * Minutes>  Turbidity, water, unfiltered, monochrome near infra-red LED light, 780-900 nm, detection angle 90 +-2.5 degrees, formazin nephelometric units (FNU) [YSI 6136]\n",
      "    72255: <5 * Minutes>  Mean water velocity for discharge computation, feet per second [X SONTEK]\n",
      "Start: 2021-10-11 01:45:00+00:00\n",
      "End:   2021-10-21 01:20:00+00:00\n",
      "2876\n",
      "<Response [200]>\n"
     ]
    }
   ],
   "source": [
    "fox_river_gb_iv = hydrofunctions.NWIS(\"040851385\", \"iv\", period=\"P10D\")\n",
    "print(fox_river_gb_iv)\n",
    "print(len(fox_river_gb_iv.df().index))\n",
    "print(fox_river_gb_iv.response)"
   ]
  },
  {
   "cell_type": "code",
   "execution_count": 27,
   "id": "40296198-985d-4e0c-baff-151932052e79",
   "metadata": {},
   "outputs": [
    {
     "name": "stdout",
     "output_type": "stream",
     "text": [
      "Requested data from https://waterservices.usgs.gov/nwis/iv/?format=json%2C1.1&sites=040851385&startDT=2021-10-11&endDT=2021-10-21\n",
      "USGS:040851385: FOX RIVER AT OIL TANK DEPOT AT GREEN BAY, WI\n",
      "    00010: <5 * Minutes>  Temperature, water, degrees Celsius [YSI]\n",
      "    00060: <5 * Minutes>  Discharge, cubic feet per second [(2)]\n",
      "    00065: <5 * Minutes>  Gage height, feet [PS-2]\n",
      "    00095: <5 * Minutes>  Specific conductance, water, unfiltered, microsiemens per centimeter at 25 degrees Celsius [YSI]\n",
      "    00300: <5 * Minutes>  Dissolved oxygen, water, unfiltered, milligrams per liter [YSI]\n",
      "    00400: <5 * Minutes>  pH, water, unfiltered, field, standard units [YSI]\n",
      "    63680: <5 * Minutes>  Turbidity, water, unfiltered, monochrome near infra-red LED light, 780-900 nm, detection angle 90 +-2.5 degrees, formazin nephelometric units (FNU) [YSI 6136]\n",
      "    72255: <5 * Minutes>  Mean water velocity for discharge computation, feet per second [X SONTEK]\n",
      "Start: 2021-10-11 05:00:00+00:00\n",
      "End:   2021-10-21 01:20:00+00:00\n",
      "2837\n",
      "<Response [200]>\n"
     ]
    }
   ],
   "source": [
    "fox_river_gb_iv = hydrofunctions.NWIS(\"040851385\", \"iv\", \"2021-10-11\", \"2021-10-21\")\n",
    "print(fox_river_gb_iv)\n",
    "print(len(fox_river_gb_iv.df().index))\n",
    "print(fox_river_gb_iv.response)"
   ]
  },
  {
   "cell_type": "code",
   "execution_count": 17,
   "id": "4124ec1c-11fd-41b2-9316-19fefe306403",
   "metadata": {},
   "outputs": [
    {
     "name": "stdout",
     "output_type": "stream",
     "text": [
      "Requested data from https://waterservices.usgs.gov/nwis/dv/?format=json%2C1.1&stateCd=WI\n"
     ]
    },
    {
     "data": {
      "text/plain": [
       "hydrofunctions.station.NWIS"
      ]
     },
     "execution_count": 17,
     "metadata": {},
     "output_type": "execute_result"
    }
   ],
   "source": [
    "wi_code = \"WI\"\n",
    "wi = hydrofunctions.NWIS(stateCd=wi_code)\n",
    "type(wi)"
   ]
  },
  {
   "cell_type": "code",
   "execution_count": 26,
   "id": "21188f32-4ad7-4720-aeb6-0161f20668c8",
   "metadata": {},
   "outputs": [
    {
     "data": {
      "text/plain": [
       "['__class__',\n",
       " '__delattr__',\n",
       " '__dict__',\n",
       " '__dir__',\n",
       " '__doc__',\n",
       " '__eq__',\n",
       " '__format__',\n",
       " '__ge__',\n",
       " '__getattribute__',\n",
       " '__gt__',\n",
       " '__hash__',\n",
       " '__init__',\n",
       " '__init_subclass__',\n",
       " '__le__',\n",
       " '__lt__',\n",
       " '__module__',\n",
       " '__ne__',\n",
       " '__new__',\n",
       " '__reduce__',\n",
       " '__reduce_ex__',\n",
       " '__repr__',\n",
       " '__setattr__',\n",
       " '__sizeof__',\n",
       " '__str__',\n",
       " '__subclasshook__',\n",
       " '__weakref__',\n",
       " '_dataframe',\n",
       " 'df',\n",
       " 'end',\n",
       " 'end_date',\n",
       " 'get_data',\n",
       " 'json',\n",
       " 'meta',\n",
       " 'ok',\n",
       " 'read',\n",
       " 'response',\n",
       " 'save',\n",
       " 'service',\n",
       " 'site',\n",
       " 'start',\n",
       " 'start_date',\n",
       " 'station_dict']"
      ]
     },
     "execution_count": 26,
     "metadata": {},
     "output_type": "execute_result"
    }
   ],
   "source": [
    "dir(wi)"
   ]
  },
  {
   "cell_type": "code",
   "execution_count": null,
   "id": "00d10f04-e726-4423-9e0a-ad006f9a295d",
   "metadata": {},
   "outputs": [],
   "source": []
  },
  {
   "cell_type": "code",
   "execution_count": null,
   "id": "4dfeedb1-bdd7-4519-8f2d-917f12558741",
   "metadata": {},
   "outputs": [],
   "source": []
  }
 ],
 "metadata": {
  "kernelspec": {
   "display_name": "Python 3 (ipykernel)",
   "language": "python",
   "name": "python3"
  },
  "language_info": {
   "codemirror_mode": {
    "name": "ipython",
    "version": 3
   },
   "file_extension": ".py",
   "mimetype": "text/x-python",
   "name": "python",
   "nbconvert_exporter": "python",
   "pygments_lexer": "ipython3",
   "version": "3.9.0"
  }
 },
 "nbformat": 4,
 "nbformat_minor": 5
}
